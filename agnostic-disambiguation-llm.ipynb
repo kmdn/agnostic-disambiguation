{
 "cells": [
  {
   "cell_type": "code",
   "execution_count": 55,
   "metadata": {},
   "outputs": [],
   "source": [
    "#!pip install transformers\n",
    "#!pip install jinja2 --upgrade"
   ]
  },
  {
   "cell_type": "code",
   "execution_count": 56,
   "metadata": {},
   "outputs": [],
   "source": [
    "#from huggingface_hub import notebook_login\n",
    "#notebook_login()"
   ]
  },
  {
   "cell_type": "code",
   "execution_count": 1,
   "metadata": {},
   "outputs": [],
   "source": [
    "# Load mention data\n",
    "from pynif import NIFCollection\n",
    "\n",
    "nif_data_path = \"C:\\\\Users\\\\wf7467\\\\Desktop\\\\Evaluation Datasets\\\\Datasets\\\\entity_linking\\\\conll_aida-yago2-dataset\\\\AIDA-YAGO2-dataset.tsv_nif\"\n",
    "\n",
    "nif_data = \"\"\n",
    "\n",
    "with open(nif_data_path, 'r', encoding=\"utf-8\") as f:\n",
    "    nif_data = f.read()\n",
    "\n",
    "parsed_collection = NIFCollection.loads(nif_data, format='turtle')"
   ]
  },
  {
   "cell_type": "code",
   "execution_count": 2,
   "metadata": {
    "collapsed": true,
    "jupyter": {
     "outputs_hidden": true
    }
   },
   "outputs": [
    {
     "name": "stdout",
     "output_type": "stream",
     "text": [
      "Stork H1 results breakdown per sector .  AMSTERDAM 1996-08-28  First 24 weeks 1996  ( millions of guilders unless otherwise stated )  Industrial systems and components  - Turnover 756 vs 829  - Operating profit 46 vs 48  - New orders received 876 vs 933  - Order book ( billions ) 1.07 vs 0.98  Industrial services  - Turnover 657 vs 700  - Operating profit 9 vs 3  - New orders received ( billions ) 1.00 vs 1.09  - Order book ( billions ) 2.37 vs 2.01  NOTE - Order book figures refer to value of orders on books at end of period .  -- Amsterdam newsroom +31 20 504 5000 , Fax +31 20 504 5040 , 0, 595\n",
      "AMSTERDAM, 41, 50, https://aifb.kit.edu/conll/768#offset_41_50, None, http://en.wikipedia.org/wiki/Amsterdam\n",
      "Amsterdam, 538, 547, https://aifb.kit.edu/conll/768#offset_538_547, None, http://en.wikipedia.org/wiki/Amsterdam\n"
     ]
    }
   ],
   "source": [
    "for context in parsed_collection.contexts:\n",
    "    # See what can be called on context\n",
    "    # print(dir(context))\n",
    "\n",
    "    # input sentence (1 document = 1 sentence)\n",
    "    document = context.mention\n",
    "    print(f\"{context.mention}, {context.beginIndex}, {context.endIndex}\")\n",
    "    for phrase in context.phrases:\n",
    "        #print(phrase)\n",
    "        #print(dir(phrase))\n",
    "        print(f\"{phrase.mention}, {phrase.beginIndex}, {phrase.endIndex}, {phrase.generated_uri}, {phrase.taClassRef}, {phrase.taIdentRef}\")\n",
    "    break"
   ]
  },
  {
   "cell_type": "code",
   "execution_count": 205,
   "metadata": {},
   "outputs": [],
   "source": [
    "def transform_dbp_json_cands_to_dict(json_documents={}):\n",
    "    candidate_dict = {}\n",
    "    candidate_dict['types'] = []\n",
    "    candidate_dict['label'] = []\n",
    "    candidate_dict['desc'] = []\n",
    "    candidate_dict['uri'] = []\n",
    "    candidate_dict['score'] = []\n",
    "    candidate_dict['refCount'] = []\n",
    "    \n",
    "    for i in range(len(json_documents)):\n",
    "        document = json_documents[i]\n",
    "        try:\n",
    "            # Retrieve information\n",
    "            # Description\n",
    "            small_desc = document.get('comment', \"\")\n",
    "            # Types for this candidate\n",
    "            types = document.get('typeName', [])\n",
    "            if types is None:\n",
    "                #print(f\"No types for: {document.keys()}, {document['label']}\")\n",
    "                types = \"\"\n",
    "                \n",
    "            # The label / name for this candidate\n",
    "            label = document.get('label', [])\n",
    "            \n",
    "            # URI for this candidate\n",
    "            uri = document.get('resource', [])\n",
    "\n",
    "            # Score (Optional)\n",
    "            score = document.get('score', [])\n",
    "\n",
    "            # Reference Count (Optional)\n",
    "            refCount = document.get('refCount', [])\n",
    "\n",
    "            # Populate information\n",
    "            candidate_dict['types'].append(types)\n",
    "            candidate_dict['label'].extend(label)\n",
    "            candidate_dict['desc'].extend(small_desc)\n",
    "            candidate_dict['uri'].extend(uri)\n",
    "            candidate_dict['score'].extend(score)\n",
    "            candidate_dict['refCount'].extend(refCount)\n",
    "\n",
    "            \n",
    "        except:\n",
    "            print(f\"ERROR: {document.keys()}\")\n",
    "            raise\n",
    "    return candidate_dict['label'], candidate_dict['desc'], candidate_dict['types'], candidate_dict['uri'], candidate_dict['score'], candidate_dict['refCount']\n",
    "\n",
    "\n",
    "labels, desc, types, uris, score, refCount = transform_dbp_json_cands_to_dict(json_documents)"
   ]
  },
  {
   "cell_type": "code",
   "execution_count": 4,
   "metadata": {},
   "outputs": [],
   "source": [
    "import json\n",
    "from os import listdir\n",
    "from os.path import isfile, join\n",
    "        \n",
    "def load_candidate_results(\n",
    "                          result_directory=\"C:/Users/wf7467/Desktop/GitHub/KIT/agnostic-disambiguation/data/candidates/CoNLL_AIDA-YAGO2-dataset.nif/\"):\n",
    "    all_candidate_results = {}\n",
    "    for path in [result_directory+f for f in listdir(result_directory) if isfile(join(result_directory, f))]:\n",
    "        with open(path, encoding='utf-8') as json_file:\n",
    "            in_json = json.load(json_file)\n",
    "            \n",
    "            all_candidate_results[path] = in_json\n",
    "    return all_candidate_results"
   ]
  },
  {
   "cell_type": "code",
   "execution_count": 2,
   "metadata": {},
   "outputs": [],
   "source": [
    "# Load mention data\n",
    "from pynif import NIFCollection\n",
    "\n",
    "def load_nif_dataset(nif_data_path = \"C:\\\\Users\\\\wf7467\\\\Desktop\\\\Evaluation Datasets\\\\Datasets\\\\entity_linking\\\\conll_aida-yago2-dataset\\\\AIDA-YAGO2-dataset.tsv_nif\"):\n",
    "\n",
    "    nif_data = \"\"\n",
    "\n",
    "    with open(nif_data_path, 'r', encoding=\"utf-8\") as f:\n",
    "        nif_data = f.read()\n",
    "\n",
    "    parsed_collection = NIFCollection.loads(nif_data, format='turtle')\n",
    "\n",
    "parsed_collection = load_nif_dataset(nif_data_path = \"C:\\\\Users\\\\wf7467\\\\Desktop\\\\Evaluation Datasets\\\\Datasets\\\\entity_linking\\\\conll_aida-yago2-dataset\\\\AIDA-YAGO2-dataset.tsv_nif\")"
   ]
  },
  {
   "cell_type": "code",
   "execution_count": 5,
   "metadata": {},
   "outputs": [
    {
     "name": "stdout",
     "output_type": "stream",
     "text": [
      "Number of entries: 1393\n"
     ]
    }
   ],
   "source": [
    "all_candidate_results = load_candidate_results(result_directory=\"C:/Users/wf7467/Desktop/GitHub/KIT/agnostic-disambiguation/data/candidates/CoNLL_AIDA-YAGO2-dataset.nif/\")\n",
    "print(f\"Number of entries: {len(all_candidate_results)}\")"
   ]
  },
  {
   "cell_type": "code",
   "execution_count": 6,
   "metadata": {},
   "outputs": [
    {
     "name": "stdout",
     "output_type": "stream",
     "text": [
      "C:/Users/wf7467/Desktop/GitHub/KIT/agnostic-disambiguation/data/candidates/CoNLL_AIDA-YAGO2-dataset.nif/1006.json\n"
     ]
    },
    {
     "data": {
      "text/plain": [
       "dict_keys(['mentions', 'begin_index', 'end_index', 'labels', 'desc', 'types', 'candidate_uris', 'scores', 'refCount', 'true_uris'])"
      ]
     },
     "execution_count": 6,
     "metadata": {},
     "output_type": "execute_result"
    }
   ],
   "source": [
    "#get some random key to get one entry\n",
    "key = (list(all_candidate_results.keys()))[10]\n",
    "#print(all_candidate_results[list(all_candidate_results.keys())[10]])\n",
    "print(key)\n",
    "#key = next(iter(all_candidate_results))\n",
    "candidates_entry = all_candidate_results[key]\n",
    "# Only has one key\n",
    "in_text = next(iter( candidates_entry ))\n",
    "json_candidates = candidates_entry[in_text]\n",
    "json_candidates.keys()"
   ]
  },
  {
   "cell_type": "code",
   "execution_count": 19,
   "metadata": {},
   "outputs": [],
   "source": [
    "def load_cand_desc_results(\n",
    "                          result_directory=\"C:/Users/wf7467/Desktop/GitHub/KIT/agnostic-disambiguation/data/candidate_descriptions/CoNLL_AIDA-YAGO2-dataset.nif/\"):\n",
    "    '''Taken from query_data.ipynb'''\n",
    "    all_cand_desc_results = {}\n",
    "    for path in [result_directory+f for f in listdir(result_directory) if isfile(join(result_directory, f))]:\n",
    "        with open(path, encoding='utf-8') as json_file:\n",
    "            in_json = json.load(json_file)\n",
    "            \n",
    "            all_cand_desc_results[path] = in_json\n",
    "    return all_cand_desc_results\n",
    "\n",
    "\n"
   ]
  },
  {
   "cell_type": "code",
   "execution_count": 20,
   "metadata": {},
   "outputs": [],
   "source": [
    "\n",
    "def load_dict_candidate_description():\n",
    "    all_cand_desc_results = load_cand_desc_results()\n",
    "    # uris_for_descriptions --> all URIs we want to crawl\n",
    "    # cands_desc\n",
    "\n",
    "    dict_uri_desc = {}\n",
    "    for filename in all_cand_desc_results:\n",
    "        cands_desc = all_cand_desc_results[filename]\n",
    "        #print(list(cands_desc.keys())[0])\n",
    "        for uri in cands_desc:\n",
    "            desc = cands_desc[uri]\n",
    "            dict_uri_desc[uri] = desc\n",
    "    return dict_uri_desc\n",
    "\n"
   ]
  },
  {
   "cell_type": "code",
   "execution_count": 27,
   "metadata": {},
   "outputs": [],
   "source": [
    "# Save it globally to avoid long call chains...\n",
    "dict_uri_description = load_dict_candidate_description()\n",
    "\n",
    "\n",
    "def get_or_default_lst(lst, idx, default):\n",
    "    return lst[idx] if idx < len(lst) else default\n",
    "\n",
    "\n",
    "def generate_prompt_options(json_candidates, i, newline='\\n'):\n",
    "    # i-th mention\n",
    "    # j-th candidate\n",
    "    prompt_options = []\n",
    "    prompt_options_w_desc = []\n",
    "    candidate_uris = []\n",
    "    for j in range(len(json_candidates)):\n",
    "        mention = json_candidates['mentions'][i]\n",
    "        # Types for this one candidate\n",
    "        types_list = get_or_default_lst(json_candidates['types'], i, [])\n",
    "        types_list = get_or_default_lst(types_list, j, [])\n",
    "        types = ', '.join(types_list)\n",
    "        \n",
    "        # this candidate's URI\n",
    "        uri_list = get_or_default_lst(json_candidates['candidate_uris'], i, [])\n",
    "        uri = get_or_default_lst(uri_list, j, \"\")\n",
    "        \n",
    "        # Description for this candidate\n",
    "        desc = dict_uri_description.get(uri, \"\")\n",
    "\n",
    "        #desc_list = get_or_default_lst(json_candidates['desc'], i, [])\n",
    "        #desc = get_or_default_lst(desc_list, j, \"\")\n",
    "        \n",
    "        prompt_choice = f\"{j}. { mention } ({ types }) - { uri }\"\n",
    "        prompt_choice_w_desc = prompt_choice + f\" {newline}{ desc }\"\n",
    "        prompt_options_w_desc.append(prompt_choice_w_desc)\n",
    "        prompt_options.append(prompt_choice)\n",
    "        candidate_uris.append(uri)\n",
    "    \n",
    "    return prompt_options_w_desc, prompt_options, candidate_uris\n",
    "\n",
    "\n",
    "def generate_prompt_from_candidates(json_candidates, input_document):\n",
    "    newline = \"\\n\"\n",
    "    mention_prompts = []\n",
    "    mention_prompt_choices = []\n",
    "    mention_candidate_uris = []\n",
    "    \n",
    "    #input_document, mentions, labels, candidate_uris\n",
    "    for mention_index in range(len(json_candidates['mentions'])):\n",
    "        prompt_options_w_desc, prompt_choices, candidate_uris = generate_prompt_options(json_candidates=json_candidates, i=mention_index)\n",
    "        mention_prompt_choices.append(prompt_choices)\n",
    "        mention_candidate_uris.append(candidate_uris)\n",
    "        prompt_text = f\"\"\"For the following input document, which of the listed entity candidates (if any) is referred to by mention \\\"{json_candidates['mentions'][mention_index]}\\\" (at offset {json_candidates['begin_index'][mention_index]})? \n",
    "Please reply with just the index and the URI for the entity.\n",
    "Input document:\n",
    "\\\"{input_document}\\\" \n",
    "\n",
    "Entity Candidates:\n",
    "{(newline+newline).join(prompt_options_w_desc)}\"\"\"\n",
    "        \n",
    "        mention_prompts.append(prompt_text)\n",
    "    return mention_prompts, json_candidates['true_uris'], mention_prompt_choices, mention_candidate_uris\n",
    "        \n",
    "\n"
   ]
  },
  {
   "cell_type": "code",
   "execution_count": 28,
   "metadata": {},
   "outputs": [],
   "source": [
    "mention_prompts, true_uris, mention_prompt_choices, mention_candidate_uris = generate_prompt_from_candidates(json_candidates, input_document=in_text)"
   ]
  },
  {
   "cell_type": "code",
   "execution_count": 29,
   "metadata": {},
   "outputs": [
    {
     "data": {
      "text/plain": [
       "'For the following input document, which of the listed entity candidates (if any) is referred to by mention \"Arab\" (at offset 1504)? \\nInput document:\\n        \"Main Tunisian opposition party ousted from HQ .  TUNIS 1996-08-24  Tunisia \\'s main opposition party on Saturday announced that it had been ousted from its headquarters building by a court decision for failing to pay the rent .  Mohamed Ali Khalfallah , spokesman for the Movement of Socialist Democrats ( MDS ) said that a bailiff who was accompagnied by policemen , on Saturday ordered the party to leave the building .  \" We were not allowed a delay to enable us to transfer the movement \\'s goods and documents , \" Khalfallah added in a statement .  The building is state property .  The MDS was represented in court and admitted owing money for rent but did not give details .  MDS this year lost its president and vice-president , both of whom were tried and given jail sentences .  MDS president Mohamed Moada was sentenced last February to 11 years in jail on charges of having secret contacts with Libyan agents and receiving money from Tripoli .  Vice-president Khemais Chammari last July was sentenced to five years in prison on a charge of disclosing secrets of judicial proceedings in Moada \\'s affair .  To replace Moada , the MDS after the trial named Khalfallah as \" coordinator \" but Ismail Boulahya , the last of the MDS founding members still politically active , claimed the title of president , causing a new split within the movement .  MDS was founded in 1978 by a group led by Ahmed Mestiri , who withdrew from politics in 1992 .  Succeeding him as head of the movement , Moada , an Arab nationalist , ousted liberals led by MDS secretary-general Mustapha Ben Jaafar in 1993 . \" \\n\\nEntity Candidates:\\n0. Arab (Place, Country, PopulatedPlace, Location) - http://dbpedia.org/resource/United_Arab_Emirates \\nThe United Arab Emirates (UAE; Arabic: الإمارات العربية المتحدة al-ʾImārāt al-ʿArabīyah al-Muttaḥidah), or simply the Emirates (Arabic: الإمارات al-ʾImārāt), is a country in Western Asia (The Middle East). It is located at the eastern end of the Arabian Peninsula and shares borders with Oman and Saudi Arabia, while having maritime borders in the Persian Gulf with Qatar and Iran. Abu Dhabi is the nation\\'s capital, while Dubai, the most populous city, is an international hub. The United Arab Emirates is an elective monarchy formed from a federation of seven emirates, consisting of Abu Dhabi (the capital), Ajman, Dubai, Fujairah, Ras Al Khaimah, Sharjah and Umm Al Quwain. Each emirate is governed by an emir and together the emirs form the Federal Supreme Council. The members of the Federal Supreme Council elect a president and vice president from among their members. In practice, the emir of Abu Dhabi serves as president while the ruler of Dubai is vice president and also prime minister. In 2013, the country had a population of 9.2 million, of which 1.4 million were Emirati citizens and 7.8 million were expatriates. As of 2020, the United Arab Emirates has an estimated population of roughly 9.9 million. The area which is today the United Arab Emirates has been inhabited for over 125,000 years. It has been the crossroads of trading for many civilizations, including Mesopotamia, Persia, and India. Islam is the official religion and Arabic the official language. The United Arab Emirates\\' oil and natural gas reserves are the world\\'s sixth and seventh-largest, respectively. Zayed bin Sultan Al Nahyan, ruler of Abu Dhabi and the country\\'s first president, oversaw the development of the Emirates by investing oil revenues into healthcare, education, and infrastructure. The United Arab Emirates has the most diversified economy among the members of the Gulf Cooperation Council. In the 21st century, the country has become less reliant on oil and gas and is economically focusing on tourism and business. The government does not levy income tax, although there is a corporate tax in place and a 5% value-added tax was established in 2018. Human rights groups, such as Amnesty International, Freedom House and Human Rights Watch, regard UAE as generally substandard on human rights, with citizens criticising the regime imprisoned and tortured, families harassed by the state security apparatus, and cases of forced disappearances. Individual rights such as the freedoms of assembly, association, the press, expression, and religion are also severely repressed. The UAE is considered a middle power. It is a member of the United Nations, Arab League, Organisation of Islamic Cooperation, OPEC, Non-Aligned Movement, and Gulf Cooperation Council (GCC).\\n\\n1. Arab (Place, Country, PopulatedPlace, Location) - http://dbpedia.org/resource/Syria \\nSyria (Arabic: سُورِيَا or سُورِيَة, romanized: Sūriyā), officially the Syrian Arab Republic (Arabic: الجمهورية العربية السورية, romanized: al-Jumhūrīyah al-ʻArabīyah as-Sūrīyah), is a Western Asian country located in the Eastern Mediterranean and the Levant. It is a unitary republic that consists of 14 governorates (subdivisions), and is bordered by the Mediterranean Sea to the west, Turkey to the north, Iraq to the east and southeast, Jordan to the south, and Israel and Lebanon to the southwest. Cyprus lies to the west across the Mediterranean Sea. A country of fertile plains, high mountains, and deserts, Syria is home to diverse ethnic and religious groups, including the majority Syrian Arabs, Kurds, Turkmens, Assyrians, Armenians, Circassians, Albanians, and Greeks. Religious groups include Muslims, Christians, Alawites, Druze, and Yazidis. The capital and largest city of Syria is Damascus. Arabs are the largest ethnic group, and Muslims are the largest religious group. Syria is the only country that politically espouses the left-wing Arab nationalist and socialist ideology known as neo-Ba\\'athism. Syria is a member of one international organization other than the United Nations, the Non-Aligned Movement. It was suspended from the Arab League in November 2011 and the Organisation of Islamic Cooperation, and self-suspended from the Union for the Mediterranean. The modern Syrian state was established in the mid-20th century after centuries of Ottoman rule. After a period as a French mandate (1923–1946), the newly created state represented the largest Arab state to emerge from the formerly Ottoman-ruled Syrian provinces. It gained de jure independence as a parliamentary republic on 24 October 1945 when the Republic of Syria became a founding member of the United Nations, an act which legally ended the former French Mandate (although French troops did not leave the country until April 1946). The name \"Syria\" historically referred to a wider region, broadly synonymous with the Levant, and known in Arabic as al-Sham. The modern state encompasses the sites of several ancient kingdoms and empires, including the Eblan civilization of the 3rd millennium BC. Aleppo and the capital city Damascus are among the oldest continuously inhabited cities in the world. In the Islamic era, Damascus was the seat of the Umayyad Caliphate and a provincial capital of the Mamluk Sultanate in Egypt. The post-independence period was tumultuous, with many military coups and coup attempts shaking the country from 1949 to 1971. In 1958, Syria entered a brief union with Egypt called the United Arab Republic, which was terminated by the 1961 Syrian coup d\\'état. The republic was renamed as the Arab Republic of Syria in late 1961 after the December 1 constitutional referendum of that year, and was increasingly unstable until the 1963 Ba\\'athist coup d\\'état, since which the Arab Socialist Ba\\'ath Party has maintained its power. Syria was under Emergency Law from 1963 to 2011, effectively suspending most constitutional protections for citizens. Bashar al-Assad has been president since 2000 and was preceded by his father Hafez al-Assad, who was in office from 1971 to 2000. Throughout his rule, Assad regime and the ruling Ba\\'ath Party have been condemned and criticized for various human rights abuses, including frequent executions of citizens and political prisoners, and massive censorship. Since March 2011, Syria has been embroiled in a multi-sided civil war, with a number of countries in the region and beyond involved militarily or otherwise. As a result, a number of self-proclaimed political entities have emerged on Syrian territory, including the Syrian Interim Government, Syrian Salvation Government, Rojava and the Islamic State group. Syria was ranked last on the Global Peace Index from 2016 to 2018, making it the most violent country in the world due to the war. The conflict has killed more than 570,000 people, caused 7.6 million internally displaced people (July 2015 UNHCR estimate) and over 5 million refugees (July 2017 registered by UNHCR), making population assessment difficult in recent years.\\n\\n2. Arab (Place, Country, PopulatedPlace, Location) - http://dbpedia.org/resource/Egypt \\nEgypt (Arabic: مصر Miṣr [mesˁr], Egyptian Arabic pronunciation: [mɑsˤr]), officially the Arab Republic of Egypt, is a transcontinental country spanning the northeast corner of Africa and southwest corner of Asia via a land bridge formed by the Sinai Peninsula. It is bordered by the Mediterranean Sea to the north, the Gaza Strip of Palestine and Israel to the northeast, the Red Sea to the east, Sudan to the south, and Libya to the west. The Gulf of Aqaba in the northeast separates Egypt from Jordan and Saudi Arabia. Cairo is the capital and largest city of Egypt, while Alexandria, the second-largest city, is an important industrial and tourist hub at the Mediterranean coast. At approximately 100 million inhabitants, Egypt is the 14th-most populated country in the world. Egypt has one of the longest histories of any country, tracing its heritage along the Nile Delta back to the 6th–4th millennia BCE. Considered a cradle of civilisation, Ancient Egypt saw some of the earliest developments of writing, agriculture, urbanisation, organised religion and central government. Iconic monuments such as the Giza Necropolis and its Great Sphinx, as well the ruins of Memphis, Thebes, Karnak, and the Valley of the Kings, reflect this legacy and remain a significant focus of scientific and popular interest. Egypt\\'s long and rich cultural heritage is an integral part of its national identity, which reflects its unique transcontinental location being simultaneously Mediterranean, Middle Eastern and North African. Egypt was an early and important centre of Christianity, but was largely Islamised in the seventh century and remains a predominantly Sunni Muslim country, albeit with a significant Christian minority, along with other lesser practiced faiths. Modern Egypt dates back to 1922, when it gained independence from the British Empire as a monarchy. Following the 1952 revolution, Egypt declared itself a republic, and in 1958 it merged with Syria to form the United Arab Republic, which dissolved in 1961. Throughout the second half of the 20th century, Egypt endured social and religious strife and political instability, fighting several armed conflicts with Israel in 1948, 1956, 1967 and 1973, and occupying the Gaza Strip intermittently until 1967. In 1978, Egypt signed the Camp David Accords, officially withdrawing from the Gaza Strip and recognising Israel. The country continues to face challenges, from political unrest, including the recent 2011 revolution and its aftermath, to terrorism and economic underdevelopment. Egypt\\'s current government, a semi-presidential republic led by Abdel Fattah el-Sisi, has been described by a number of watchdogs as authoritarian or heading an authoritarian regime, responsible for perpetuating the country\\'s poor human rights record. Islam is the official religion of Egypt and Arabic is its official language. With over 100 million inhabitants, Egypt is the most populous country in North Africa, the Middle East, and the Arab world, the third-most populous in Africa (after Nigeria and Ethiopia), and the fourteenth-most populous in the world. The great majority of its people live near the banks of the Nile River, an area of about 40,000 square kilometres (15,000 sq mi), where the only arable land is found. The large regions of the Sahara desert, which constitute most of Egypt\\'s territory, are sparsely inhabited. About 43% of Egypt\\'s residents live across the country\\'s urban areas, with most spread across the densely populated centres of greater Cairo, Alexandria and other major cities in the Nile Delta. Egypt is considered to be a regional power in North Africa, the Middle East and the Muslim world, and a middle power worldwide. It is a developing country, ranking 97th on the Human Development Index. It has a diversified economy, which is the third-largest in Africa, the 33rd-largest economy by nominal GDP, and the 20th-largest globally by PPP. Egypt is a founding member of the United Nations, the Non-Aligned Movement, the Arab League, the African Union, Organisation of Islamic Cooperation and the World Youth Forum.\\n\\n3. Arab (AdministrativeRegion, Place, PopulatedPlace, Location, Region) - http://dbpedia.org/resource/Khuzestan_Province \\n\\n\\n4. Arab (Organisation, SoccerClub, Agent, SportsClub) - http://dbpedia.org/resource/United_Arab_Emirates_national_football_team \\nThe United Arab Emirates national football team (Arabic: منتخب الإمارات العربية المتحدة لكرة القدم) represents United Arab Emirates in international association football and serves under the auspices of the country\\'s Football Association. It has made one World Cup appearance in 1990 in Italy and lost all three of its games. United Arab Emirates took fourth place in the 1992 Asian Cup and runner-up in 1996 as host. It won the Arabian Gulf Cup in 2007 and 2013. It finished third in the 2015 AFC Asian Cup and hosted the 2019 edition which it was eliminated in the semi-finals.\\n\\n5. Arab (Event, MilitaryConflict, SocietalEvent) - http://dbpedia.org/resource/1948_Arab–Israeli_War \\nThe 1948 (or First) Arab–Israeli War was the second and final stage of the 1948 Palestine war. It formally began following the end of the British Mandate for Palestine at midnight on 14 May 1948; the Israeli Declaration of Independence had been issued earlier that day, and a military coalition of Arab states entered the territory of British Palestine in the morning of 15 May. The day after the 29 November 1947 adoption of the United Nations Partition Plan for Palestine – which planned to divide Palestine into an Arab state, a Jewish state, and the Special International Regime encompassing the cities of Jerusalem and Bethlehem – an ambush of two buses carrying Jews took place in an incident regarded as the first in the civil war which broke out after the UN decision. The violence had certain continuities with the past, the Fajja bus attack being a direct response to a Lehi massacre on 19 November of five members of an Arab family, suspected of being British informants. There was tension and conflict between the Arabs and the Jews, and between each of them and the British forces since the 1917 Balfour Declaration and the 1920 creation of the British Mandate of Palestine. British policies dissatisfied both Arabs and Jews. Arab opposition developed into the 1936–1939 Arab revolt in Palestine, while the Jewish opposition developed into the 1944–1947 Jewish insurgency in Palestine. On 15 May 1948, the civil war transformed into a conflict between Israel and the Arab states following the Israeli Declaration of Independence the previous day. Egypt, Transjordan, Syria, and expeditionary forces from Iraq entered Palestine. The invading forces took control of the Arab areas and immediately attacked Israeli forces and several Jewish settlements. The 10 months of fighting took place mostly on the territory of the British Mandate and in the Sinai Peninsula and southern Lebanon, interrupted by several truce periods. As a result of the war, the State of Israel controlled the area that the UN had proposed for the Jewish state, as well as almost 60% of the area proposed for the Arab state, including the Jaffa, Lydda and Ramle area, Upper Galilee, some parts of the Negev and a wide strip along the Tel Aviv–Jerusalem road. Israel also took control of West Jerusalem, which was meant to be part of an international zone for Jerusalem and its environs. Transjordan took control of East Jerusalem and what became known as the West Bank, annexing it the following year, and the Egyptian military took control of the Gaza Strip. At the Jericho Conference on 1 December 1948, 2,000 Palestinian delegates called for unification of Palestine and Transjordan as a step toward full Arab unity. The conflict triggered significant demographic change throughout the Middle East. Around 700,000 Palestinian Arabs fled or were expelled from their homes in the area that became Israel, and they became Palestinian refugees in what they refer to as the Nakba (\"the catastrophe\"). A similar number of Jews moved to Israel during the three years following the war, including 260,000 from the surrounding Arab states.\\n\\n6. Arab (Place, PopulatedPlace, Continent, Location) - http://dbpedia.org/resource/Arab_world \\nThe Arab world (Arabic: اَلْعَالَمُ الْعَرَبِيُّ al-ʿālam al-ʿarabī), formally the Arab homeland (اَلْوَطَنُ الْعَرَبِيُّ al-waṭan al-ʿarabī), also known as the Arab nation (اَلْأُمَّةُ الْعَرَبِيَّةُ al-ummah al-ʿarabīyyah), the Arabsphere, or the Arab states, refers to a vast group of countries, mainly located in Western Asia and Northern Africa, that linguistically or culturally share an Arab identity. A majority of people in these countries are either ethnically Arab or are Arabized, speaking the Arabic language, which is used as the lingua franca throughout the Arab world. The Arab world is at its minimum defined as the 18 states where Arabic is natively spoken. At its maximum it consists of the 22 members of the Arab League, an international organization, which on top of the 18 states also includes the Comoros, Djibouti, Somalia and the partially recognized state of Palestine. The region stretches from the Atlantic Ocean in the west to the Arabian Sea in the east, and from the Mediterranean Sea in the north to the Indian Ocean in the southeast. The eastern part of the Arab world is known as the Mashriq, and the western part as the Maghreb. According to the World Bank, the Arab world has a total population of 436 million inhabitants and a gross domestic product of $2.85 trillion, as of 2021. The region is nevertheless diverse in many ways, and economically includes some of the wealthiest as well as poorest populations. The region mostly corresponds with the Middle East and North Africa (MENA) definition. In post-classical history, the Arab world was synonymous with the historic Arab empires and caliphates. Arab nationalism arose in the second half of the 19th century along with other nationalist movements within the Ottoman Empire. The Arab League was formed in 1945 to represent the interests of Arab people and especially to pursue the political unification of the Arab countries; a project known as Pan-Arabism.\\n\\n7. Arab () - http://dbpedia.org/resource/Arab_nationalism \\nArab nationalism (Arabic: القومية العربية, romanized: al-Qawmīya al-ʿArabīya) is a nationalist ideology that asserts the Arabs are a nation and promotes the unity of Arab people, celebrating the glories of Arab civilization, the language and literature of the Arabs, and calling for rejuvenation and political union in the Arab world. Its central premise is that the people of the Arab world, from the Atlantic Ocean to the Indian Ocean, constitute one nation bound together by common ethnicity, language, culture, history, identity, geography and politics. One of the primary goals of Arab nationalism is the end of Western influence in the Arab world, seen as a \"nemesis\" of Arab strength, and the removal of those Arab governments considered to be dependent upon Western power. It rose to prominence with the weakening and defeat of the Ottoman Empire in the early 20th century and declined after the defeat of the Arab armies in the Six-Day War. Personalities and groups associated with Arab nationalism include King Faisal I of Iraq, Egyptian President Gamal Abdel Nasser, the Arab Nationalist Movement, Libyan leader Muammar Gaddafi, the Palestine Liberation Organization, the Arab Socialist Ba\\'ath Party which came to power in Iraq for some years and is still the ruling party in Syria, and its founder Michel Aflaq. Pan-Arabism is a related concept, in as much as it calls for supranational communalism among the Arab states.\\n\\n8. Arab () - http://dbpedia.org/resource/Arab_Spring \\nThe Arab Spring (Arabic: الربيع العربي) was a series of anti-government protests, uprisings and armed rebellions that spread across much of the Arab world in the early 2010s. It began in Tunisia in response to corruption and economic stagnation. From Tunisia, the protests then spread to five other countries: Libya, Egypt, Yemen, Syria and Bahrain. Rulers were deposed (Zine El Abidine Ben Ali, Muammar Gaddafi, Hosni Mubarak, Ali Abdullah Saleh) or major uprisings and social violence occurred including riots, civil wars, or insurgencies. Sustained street demonstrations took place in Morocco, Iraq, Algeria, Lebanon, Jordan, Kuwait, Oman and Sudan. Minor protests took place in Djibouti, Mauritania, Palestine, Saudi Arabia and the Moroccan-occupied Western Sahara. A major slogan of the demonstrators in the Arab world is ash-shaʻb yurīd isqāṭ an-niẓām! (Arabic: الشعب يريد إسقاط النظام, lit.\\u2009\\'the people want to bring down the regime\\'). The importance of external factors versus internal factors to the protests\\' spread and success is contested. Social media is one way governments try to inhibit protests. In many countries, governments shut down certain sites or blocked Internet service entirely, especially in the times preceding a major rally. Governments also accused content creators of unrelated crimes or shutting down communication on specific sites or groups, such as Facebook. In the news, social media has been heralded as the driving force behind the swift spread of revolution throughout the world, as new protests appear in response to success stories shared from those taking place in other countries. The wave of initial revolutions and protests faded by mid-2012, as many Arab Spring demonstrations were met with violent responses from authorities, as well as from pro-government militias, counter-demonstrators, and militaries. These attacks were answered with violence from protesters in some cases. Large-scale conflicts resulted: the Syrian Civil War; the rise of ISIL, insurgency in Iraq and the following civil war; the Egyptian Crisis, coup, and subsequent unrest and insurgency; the Libyan Civil War; and the Yemeni Crisis and following civil war. Regimes that lacked major oil wealth and hereditary succession arrangements were more likely to undergo regime change. A power struggle continued after the immediate response to the Arab Spring. While leadership changed and regimes were held accountable, power vacuums opened across the Arab world. Ultimately, it resulted in a contentious battle between a consolidation of power by religious elites and the growing support for democracy in many Muslim-majority states. The early hopes that these popular movements would end corruption, increase political participation, and bring about greater economic equity quickly collapsed in the wake of the counter-revolutionary moves by foreign state actors in Yemen, the regional and international military interventions in Bahrain and Yemen, and the destructive civil wars in Syria, Iraq, Libya, and Yemen. Some have referred to the succeeding and still ongoing conflicts as the Arab Winter. As of May 2018, only the uprising in Tunisia has resulted in a transition to constitutional democratic governance. Recent uprisings in Sudan and Algeria show that the conditions that started the Arab Spring have not faded and political movements against authoritarianism and exploitation are still occurring. In 2019, multiple uprisings and protest movements in Algeria, Sudan, Iraq, Lebanon, and Egypt have been seen as a continuation of the Arab Spring. As of 2021, multiple conflicts are still continuing that might be seen as a result of the Arab Spring. The Syrian Civil War has caused massive political instability and economic hardship in Syria, with the Syrian pound plunging to new lows. In Libya, a major civil war recently concluded, with Western powers and Russia sending in proxy fighters. In Yemen, a civil war continues to affect the country. In Lebanon, a major banking crisis is threatening the country\\'s economy as well as that of neighboring Syria.\\n\\n9. Arab (Organisation, SoccerClub, Agent, SportsClub) - http://dbpedia.org/resource/Al_Mokawloon_Al_Arab_SC \\nAl Mokawloon Al Arab Sporting Club (Arabic: نادي المقاولون العرب الرياضي), shortly known as El Mokawloon (The contractors) locally, is an Egyptian sports club based in Nasr City, Cairo, and owned by the prominent constructional engineer Osman Ahmed Osman. The club was founded in 1973 by the Egyptian engineer, contractor, entrepreneur, and politician Osman Ahmed Osman as the official sporting club for his prominent, regional construction company, the Arab Contractors, arguably the biggest one in the entire Middle East at that time. The club is best known for their football team, which currently plays in the Egyptian Premier League, the highest league in the Egyptian football league system. The club over the years have produced some of the most famous and talented players in Egypt, including Abdel Sattar Sabry, Mohamed Salah, and Mohamed Elneny.'"
      ]
     },
     "execution_count": 29,
     "metadata": {},
     "output_type": "execute_result"
    }
   ],
   "source": [
    "mention_prompts[0]"
   ]
  },
  {
   "cell_type": "code",
   "execution_count": 24,
   "metadata": {},
   "outputs": [
    {
     "name": "stdout",
     "output_type": "stream",
     "text": [
      "Collecting thefuzz\n",
      "  Downloading thefuzz-0.22.1-py3-none-any.whl.metadata (3.9 kB)\n",
      "Collecting rapidfuzz<4.0.0,>=3.0.0 (from thefuzz)\n",
      "  Downloading rapidfuzz-3.9.7-cp38-cp38-win_amd64.whl.metadata (12 kB)\n",
      "Downloading thefuzz-0.22.1-py3-none-any.whl (8.2 kB)\n",
      "Downloading rapidfuzz-3.9.7-cp38-cp38-win_amd64.whl (1.7 MB)\n",
      "   ---------------------------------------- 0.0/1.7 MB ? eta -:--:--\n",
      "   ---------------------------------------- 1.7/1.7 MB 15.0 MB/s eta 0:00:00\n",
      "Installing collected packages: rapidfuzz, thefuzz\n",
      "Successfully installed rapidfuzz-3.9.7 thefuzz-0.22.1\n"
     ]
    }
   ],
   "source": [
    "# Fuzzy string matching library\n",
    "#!pip install thefuzz"
   ]
  },
  {
   "cell_type": "code",
   "execution_count": 23,
   "metadata": {},
   "outputs": [],
   "source": [
    "def find_matching_choice(response: str, choices: list):\n",
    "    # Return best rated index for passed list\n",
    "    max_ratio = 0\n",
    "    max_ratio_idx = 0\n",
    "    response = response.lower()\n",
    "    #print(f\"To match:{response}\")\n",
    "    for choice_idx in range(len(choices)):\n",
    "        choice = choices[choice_idx].lower()\n",
    "        \n",
    "        if len(response) < len(choice):\n",
    "            shorter = response\n",
    "            longer = choice\n",
    "        else:\n",
    "            shorter = choice\n",
    "            longer = response\n",
    "            \n",
    "        new_ratio = fuzz.partial_ratio(shorter, longer)\n",
    "        #print(f\"{choice}: {new_ratio}\")\n",
    "        if new_ratio > max_ratio:\n",
    "            max_ratio = new_ratio\n",
    "            max_ratio_idx = choice_idx\n",
    "        if max_ratio >= 100:\n",
    "            # Quick closure on exact matches...\n",
    "            return max_ratio_idx\n",
    "    return max_ratio_idx"
   ]
  },
  {
   "cell_type": "code",
   "execution_count": 43,
   "metadata": {},
   "outputs": [],
   "source": [
    "from transformers import AutoTokenizer\n",
    "from huggingface_hub import InferenceClient\n",
    "from tqdm import tqdm_notebook\n",
    "\n",
    "# Fuzzy matching for LLM responses\n",
    "from thefuzz import fuzz\n",
    "\n",
    "\n",
    "def query_LLM(input_document=\"\", json_candidates={}, endpoint_url=\"http://aifb-websci-gpunode2.aifb.kit.edu:8081\", \\\n",
    "              model_id=\"meta-llama/Meta-Llama-3-8B-Instruct\"):\n",
    "\n",
    "    tokenizer=AutoTokenizer.from_pretrained(model_id)\n",
    "    y_pred_dbp = []\n",
    "    y_true = []\n",
    "\n",
    "    # Generate prompts for what we want\n",
    "    mention_prompts, true_uris, mention_prompt_choices, mention_candidate_uris = generate_prompt_from_candidates(json_candidates, input_document=input_document)\n",
    "\n",
    "    client = InferenceClient(endpoint_url)\n",
    "\n",
    "    # One prompt per mention is executed\n",
    "    for i in tqdm_notebook(range(len(mention_prompts))):\n",
    "        #print(f\"Query Numero #{i}\")\n",
    "        messages = [\n",
    "            {\"role\": \"system\", \"content\": \"You are an expert assistant disambiguating entities and outputting if any of the passed entities are referenced in a given input text.\"},\n",
    "            #{\"role\": \"user\", \"content\": f\"Please convert this text into triples: 'Green Day is a rock band.'\"},            \n",
    "            #{\"role\": \"assistant\", \"content\": \"Here are the triples corresponding to 'Green Day is a rock band.': (Green Day, has type, rock band)\"},\n",
    "            #{\"role\": \"user\", \"content\": f\"Please convert this text into triples: 'New York is a city in North America.'\"},            \n",
    "            #{\"role\": \"assistant\", \"content\": \"Here are the triples corresponding to 'New York is a city in North America': (New York, has type, city), (New York, located in, North America)\"},\n",
    "            {\"role\": \"user\", \"content\": prompt_text_apple},\n",
    "            {\"role\": \"assistant\", \"content\": \"The correct disambiguated entity is number 2. Apple Inc. (Public company) - http://dbpedia.org/resource/Apple_Inc.\"},\n",
    "            #{\"role\": \"user\", \"content\": prompt_text_steve},\n",
    "            #{\"role\": \"assistant\", \"content\": \"The correct disambiguated entity is number 11. Steve Jobs (animal) - http://dbpedia.org/resource/Steve_Jobs\"},\n",
    "            {\"role\": \"user\", \"content\": mention_prompts[i]},\n",
    "            {\"role\": \"assistant\", \"content\": \"The correct disambiguated entity is number\"},\n",
    "        ]\n",
    "\n",
    "        prompt = tokenizer.apply_chat_template(\n",
    "                messages, \n",
    "                tokenize=False, \n",
    "                add_generation_prompt=True\n",
    "        )\n",
    "\n",
    "\n",
    "        response = client.text_generation(\n",
    "          prompt + f\"The correct disambiguated entity is number\",\n",
    "          max_new_tokens=64,\n",
    "          do_sample=False,\n",
    "          temperature=0.01,\n",
    "                stop_sequences=[\"<|start_header_id|>\", \"<|end_header_id|>\", \"<|eot_id|>\"]\n",
    "        )\n",
    "\n",
    "        #print(prompt + response)\n",
    "        #\n",
    "        #print(f\"Wanted entity: {true_uris[i]}\")\n",
    "        #print(f\"RESPONSE is: {response}\")\n",
    "        choice_index = find_matching_choice(response, mention_prompt_choices[i])\n",
    "        #print(f\"Candidate Option #{choice_index}: {mention_prompt_choices[i][choice_index]} was chosen.\")\n",
    "        # See if given answer matches the true label\n",
    "        chosen_candidate = mention_candidate_uris[i][choice_index]\n",
    "        wanted_candidate = true_uris[i]\n",
    "        #print(f\"Chosen[{chosen_candidate}] vs. wanted[{wanted_candidate}]\")\n",
    "        y_true.append(wanted_candidate)\n",
    "        y_pred_dbp.append(chosen_candidate)\n",
    "    \n",
    "    return y_true, y_pred_dbp\n"
   ]
  },
  {
   "cell_type": "code",
   "execution_count": 14,
   "metadata": {},
   "outputs": [],
   "source": [
    "from sklearn.metrics import accuracy_score, precision_score, recall_score, f1_score\n",
    "\n",
    "def evaluate_results(y_pred, y_true, average='macro'):\n",
    "    # Calculate accuracy\n",
    "    accuracy = accuracy_score(y_true, y_pred)\n",
    "    #print(\"Accuracy:\", accuracy)\n",
    "\n",
    "    # Calculate precision\n",
    "    precision = precision_score(y_true, y_pred, average=average)\n",
    "    #print(\"Precision:\", precision)\n",
    "\n",
    "    # Calculate recall (sensitivity)\n",
    "    recall = recall_score(y_true, y_pred, average=average)\n",
    "    #print(\"Recall (Sensitivity):\", recall)\n",
    "\n",
    "    # Calculate F1-score\n",
    "    f1 = f1_score(y_true, y_pred, average=average)\n",
    "    #print(\"F1-Score:\", f1)\n",
    "    \n",
    "    return {'accuracy': accuracy, 'precision': precision, 'recall': recall, 'f1': f1}"
   ]
  },
  {
   "cell_type": "code",
   "execution_count": null,
   "metadata": {},
   "outputs": [],
   "source": []
  },
  {
   "cell_type": "code",
   "execution_count": 8,
   "metadata": {},
   "outputs": [],
   "source": [
    "import os\n",
    "from os import listdir\n",
    "from os.path import isfile, join\n",
    "import json\n",
    "\n",
    "def persist_prompt_and_results(output_directory, in_filepath, input_document, mention_prompts, y_true, y_pred, mention_prompt_choices, mention_candidate_uris, eval_results):\n",
    "    # Build a great json!\n",
    "    prompt_dict = {}\n",
    "    prompt_dict['cand path'] = in_filepath\n",
    "    prompt_dict['doc'] = input_document\n",
    "    prompt_dict['mention_prompts'] = mention_prompts\n",
    "    prompt_dict['y_true'] = y_true\n",
    "    prompt_dict['y_pred'] = y_pred\n",
    "    prompt_dict['mention_prompt_choices'] = mention_prompt_choices\n",
    "    prompt_dict['mention_candidate_uris'] = mention_candidate_uris\n",
    "    prompt_dict['eval_results'] = eval_results\n",
    "    \n",
    "    \n",
    "    with open(output_directory+str(os.path.basename(in_filepath)), 'w', encoding='utf-8') as f:\n",
    "        json.dump(prompt_dict, f, ensure_ascii=False, indent=4)\n",
    "\n",
    "        \n",
    "def load_prompt_and_results(result_directory):\n",
    "    prompt_dicts = {}\n",
    "    for path in [result_directory+f for f in listdir(result_directory) if isfile(join(result_directory, f))]:\n",
    "        with open(path, encoding='utf-8') as json_file:\n",
    "            prompt_dict = json.load(json_file)\n",
    "            prompt_dicts[path] = prompt_dict\n",
    "    return prompt_dicts\n",
    "    "
   ]
  },
  {
   "cell_type": "code",
   "execution_count": 54,
   "metadata": {},
   "outputs": [],
   "source": [
    "# All in one cell\n",
    "from tqdm import tqdm_notebook\n",
    "\n",
    "def load_dataset_queryLLM_evaluate(nif_data_path = \"C:\\\\Users\\\\wf7467\\\\Desktop\\\\Evaluation Datasets\\\\Datasets\\\\entity_linking\\\\conll_aida-yago2-dataset\\\\AIDA-YAGO2-dataset.tsv_nif\", \\\n",
    "                                   cand_result_directory = \"C:/Users/wf7467/Desktop/GitHub/KIT/agnostic-disambiguation/data/candidates/CoNLL_AIDA-YAGO2-dataset.nif/\",\n",
    "                                  output_directory=\"C:/Users/wf7467/Desktop/GitHub/KIT/agnostic-disambiguation/data/disambiguation/\"):\n",
    "    \n",
    "    #print(\"[Loading NIF dataset] Started.\")\n",
    "    #dataset = load_nif_dataset(nif_data_path= nif_data_path)\n",
    "    #print(\"[Loading NIF dataset] Completed.\")\n",
    "    print(\"[Loading candidate results] Started.\")\n",
    "    all_candidate_results = load_candidate_results(result_directory= cand_result_directory)\n",
    "    print(\"[Loading candidate results] Completed.\")\n",
    "    print(f\"Number of entries: {len(all_candidate_results)}\")\n",
    "\n",
    "\n",
    "    # Iterate through all entries\n",
    "    for key in tqdm_notebook(all_candidate_results, position=0):\n",
    "        #get some random key to get one entry\n",
    "        #key = (list(all_candidate_results.keys()))[10]\n",
    "        #print(all_candidate_results[list(all_candidate_results.keys())[10]])\n",
    "        \n",
    "        #print(key)#file name of which candidates were loaded from\n",
    "        #key = next(iter(all_candidate_results))\n",
    "        candidates_entry = all_candidate_results[key]\n",
    "        # Only has one key\n",
    "        input_document = next(iter( candidates_entry ))\n",
    "\n",
    "        json_candidates = candidates_entry[input_document]\n",
    "\n",
    "        # Generate prompts and get the possible choices, candidates etc. for choice matching and evaluation\n",
    "        mention_prompts, true_uris, mention_prompt_choices, mention_candidate_uris = generate_prompt_from_candidates(json_candidates, input_document=input_document)\n",
    "\n",
    "        #query_LLM\n",
    "        #print(input_document)\n",
    "        y_true, y_pred = query_LLM(input_document, json_candidates, endpoint_url = \"http://aifb-websci-gpunode2.aifb.kit.edu:8081\", model_id = \"meta-llama/Meta-Llama-3-8B-Instruct\")\n",
    "\n",
    "        # Evaluate this document\n",
    "        y_pred_wiki = [y.replace('http://dbpedia.org/resource/', 'http://en.wikipedia.org/wiki/') for y in y_pred]\n",
    "\n",
    "        eval_results = evaluate_results(y_pred_wiki, y_true)\n",
    "        \n",
    "        # Save all results to files\n",
    "        persist_prompt_and_results(output_directory, key, input_document, mention_prompts, y_true, y_pred, mention_prompt_choices, mention_candidate_uris, eval_results)"
   ]
  },
  {
   "cell_type": "code",
   "execution_count": null,
   "metadata": {
    "collapsed": true,
    "jupyter": {
     "outputs_hidden": true
    }
   },
   "outputs": [],
   "source": [
    "load_dataset_queryLLM_evaluate()"
   ]
  },
  {
   "cell_type": "code",
   "execution_count": 9,
   "metadata": {},
   "outputs": [],
   "source": [
    "prompt_result_dicts = load_prompt_and_results(result_directory=\"C:/Users/wf7467/Desktop/GitHub/KIT/agnostic-disambiguation/data/disambiguation/\")"
   ]
  },
  {
   "cell_type": "code",
   "execution_count": null,
   "metadata": {},
   "outputs": [],
   "source": [
    "all_true = []\n",
    "all_pred = []\n",
    "scored_results = []\n",
    "\n",
    "for key in prompt_result_dicts.keys():\n",
    "    y_true = prompt_result_dicts[key]['y_true']\n",
    "    y_pred = prompt_result_dicts[key]['y_pred']\n",
    "    y_pred_wiki = [y.replace('http://dbpedia.org/resource/', 'http://en.wikipedia.org/wiki/') for y in y_pred]\n",
    "    if len(y_true) != len(y_pred):\n",
    "        print(f\"Error with lengths... {key}\")\n",
    "        print(prompt_result_dicts[key])\n",
    "        raise ValueError(f\"True:{ y_true } vs. Pred:{ y_pred }\")\n",
    "    all_true.extend(y_true)\n",
    "    all_pred.extend(y_pred_wiki)\n",
    "    eval_results = evaluate_results(y_pred_wiki, y_true, 'macro')\n",
    "    scored_results.append((eval_results['f1'], key))\n",
    "\n",
    "\n",
    "print(evaluate_results(all_pred, all_true, 'macro'))"
   ]
  },
  {
   "cell_type": "code",
   "execution_count": 21,
   "metadata": {},
   "outputs": [],
   "source": [
    "scored_results.sort(key=lambda x: x[0])"
   ]
  },
  {
   "cell_type": "code",
   "execution_count": null,
   "metadata": {},
   "outputs": [],
   "source": [
    "scored_results[0:20]"
   ]
  },
  {
   "cell_type": "code",
   "execution_count": 30,
   "metadata": {},
   "outputs": [],
   "source": [
    "# Let's test some baselines\n",
    "test_question = \"What Wikipedia entity does the first occurrence of Ethiopia refer to in the following text?\\n\"\n",
    "test_in_text = \"SOCCER - AFRICAN NATIONS CUP COLLATED RESULTS .  JOHANNESBURG 1996-08-26  Collated results of African Nations Cup preliminary round , second leg matches played at the weekend :  Ethiopia 1 Uganda 1  2-2 on aggregate .  Ethiopia win 4-2 on penalties  Mauritania v Benin postponed to Friday  Benin lead 4-1 from the first leg  Namibia 6 Botswana 0  Namibia win 6-0 on aggregate  Seychelles 1 Mauritius 1  Mauritius win 2-1 on aggregate  Togo 1 Congo 0  Togo win 1-0 on aggregaete  Central African Republic walkover v Burundi  Winners progress to qualifying groups to start in October .\"\n",
    "test_prompt = test_question + \"\\n\" + test_in_text\n",
    "\n",
    "test_question_which = \"Which of the following candidates fits the description of \"\n",
    "test_candidates = \"\\n0. Ethiopia (Place, Country, PopulatedPlace, Location) - http://dbpedia.org/resource/Ethiopia \\n<B>Ethiopia</B> (; Amharic: áŠ¢á‰µá‹®áŒµá‹«, Ê¾ÄªtyÅ�á¹—á¹—yÄ�, , Tigrinya: áŠ¢á‰µá‹®áŒµá‹«, Oromo: Itoophiyaa, Somali: Itoobiya, Afar\\n\\n1. Ethiopia () - http://dbpedia.org/resource/Districts_of_Ethiopia \\n divisions of <B>Ethiopia</B>. They are further subdivided into a number of wards (kebele) or neighbourhood\\n\\n2. Ethiopia (Place, Country, PopulatedPlace, Location) - http://dbpedia.org/resource/Ethiopian_Empire \\n <B>Ethiopia</B> (; Ge'ez: áŠ¢á‰µá‹®áŒµá‹«, Amharic: áŠ¢á‰µá‹®áŒµá‹«, Ê¾ÄªtyÅ�á¹—á¹—yÄ�, , Tigrinya: áŠ¢á‰µá‹®áŒµá‹«, Oromo: Itoophiyaa, Somali\\n\\n3. Ethiopia (AdministrativeRegion, Place, PopulatedPlace, Location, Region) - http://dbpedia.org/resource/Amhara_Region \\n of <B>Ethiopia</B>, containing the homeland of the Amhara people. Previously known as \\\"Region 3\\\", its capital\\n\\n4. Ethiopia () - http://dbpedia.org/resource/Ethiopia–United_States_relations \\n<B>Ethiopia</B>–United States relations are bilateral relations between <B>Ethiopia</B> and the United States\\n\\n5. Ethiopia (Organisation, SoccerClub, Agent, SportsClub) - http://dbpedia.org/resource/Ethiopia_national_football_team \\nThe <B>Ethiopia</B> national football team, nicknamed Walias, after the Walia ibex, represents <B>Ethiopia</B>\\n\\n6. Ethiopia (Settlement, City, Place, PopulatedPlace, Location) - http://dbpedia.org/resource/Addis_Ababa \\n of <B>Ethiopia</B>. According to the 2007 census, the city has a population of 2,739,551 inhabitants. The city\\n\\n7. Ethiopia () - http://dbpedia.org/resource/Regions_of_Ethiopia \\n<B>Ethiopia</B> is a federation subdivided into ethno-linguistically based Regional States (plural\\n\\n8. Ethiopia () - http://dbpedia.org/resource/Emperor_of_Ethiopia \\nThe Emperor of <B>Ethiopia</B> (Ge'ez: áŠ•áŒ‰áˆ  áŠ�áŒˆáˆ¥á‰µ, nÉ™gusÃ¤ nÃ¤gÃ¤st, \\\"King of Kings\\\") was the hereditary ruler\\n\\n9. Ethiopia () - http://dbpedia.org/resource/Demographics_of_Ethiopia \\nThe demographics of <B>Ethiopia</B> encompass the demographic features of <B>Ethiopia's</B> inhabitants\""
   ]
  },
  {
   "cell_type": "code",
   "execution_count": null,
   "metadata": {},
   "outputs": [],
   "source": [
    "from transformers import AutoTokenizer\n",
    "from huggingface_hub import InferenceClient\n",
    "\n",
    "def prompt_LLM(messages = []):\n",
    "\n",
    "    endpoint_url = \"http://aifb-websci-gpunode2.aifb.kit.edu:8081\"\n",
    "    model_id = \"meta-llama/Meta-Llama-3-8B-Instruct\"\n",
    "    tokenizer = AutoTokenizer.from_pretrained(model_id)\n",
    "\n",
    "    client = InferenceClient(endpoint_url)\n",
    "\n",
    "    prompt = tokenizer.apply_chat_template(\n",
    "            messages, \n",
    "            tokenize=False, \n",
    "            add_generation_prompt=True\n",
    "    )\n",
    "\n",
    "\n",
    "    response = client.text_generation(\n",
    "      prompt,# + f\"The correct disambiguated entity is number\",\n",
    "      max_new_tokens=64,\n",
    "      do_sample=False,\n",
    "      temperature=0.01,\n",
    "            stop_sequences=[\"<|start_header_id|>\", \"<|end_header_id|>\", \"<|eot_id|>\"]\n",
    "    )\n",
    "    return response\n",
    "\n",
    "\n",
    "first_round_messages = [\n",
    "    {\"role\": \"system\", \"content\": \"You are a very well paid expert assistant disambiguating Wikipedia entities from texts.\"},\n",
    "    #{\"role\": \"user\", \"content\": f\"Please convert this text into triples: 'Green Day is a rock band.'\"},            \n",
    "    #{\"role\": \"assistant\", \"content\": \"Here are the triples corresponding to 'Green Day is a rock band.': (Green Day, has type, rock band)\"},\n",
    "    #{\"role\": \"user\", \"content\": f\"Please convert this text into triples: 'New York is a city in North America.'\"},            \n",
    "    #{\"role\": \"assistant\", \"content\": \"Here are the triples corresponding to 'New York is a city in North America': (New York, has type, city), (New York, located in, North America)\"},\n",
    "    #{\"role\": \"user\", \"content\": f\"Please convert this text into triples: 'Kris is a researcher'\"},\n",
    "    #\n",
    "    #{\"role\": \"user\", \"content\": prompt_text_apple},\n",
    "    #{\"role\": \"assistant\", \"content\": \"The correct disambiguated entity is number 2. Apple Inc. (Public company) - http://dbpedia.org/resource/Apple_Inc.\"},\n",
    "    #{\"role\": \"user\", \"content\": prompt_text_steve},\n",
    "    #{\"role\": \"assistant\", \"content\": \"The correct disambiguated entity Steve Jobs - http://wikipedia.org/page/Steve_Jobs\"},\n",
    "    {\"role\": \"user\", \"content\": test_prompt},\n",
    "    {\"role\": \"assistant\", \"content\": \"The first occurrence of \\\"Ethiopia\\\" in the text refers to the\"},\n",
    "    \n",
    "]\n",
    "\n",
    "second_round_messages = first_round_messages[0:-2]\n",
    "second_round_messages.extend([{\"role\": \"user\", \"content\": test_prompt_which}, ])\n",
    "\n",
    "\n",
    "entity_desc = prompt_LLM(first_round_messages)\n",
    "\n",
    "test_prompt_which = test_question_which + entity_desc + \"\\n\" + test_candidates\n",
    "\n",
    "print(response)\n",
    "\n",
    "\n"
   ]
  },
  {
   "cell_type": "code",
   "execution_count": null,
   "metadata": {},
   "outputs": [],
   "source": [
    "print(prompt_LLM([{\"role\": \"user\", \"content\": \"\"\"Given the sentence \\\"Steve eats an apple,\\\" select the appropriate Wikipedia entity for the term \\\"apple\\\" from the following options:\n",
    "\n",
    "1. Apple Inc. - A multinational technology company that designs, manufactures, and sells consumer electronics, software, and online services. Known for products like the iPhone, iPad, and MacBook.\n",
    "\n",
    "2. Apple (Name) - A given name or surname. Sometimes used as a personal name.\n",
    "\n",
    "3. Apple (Fruit) - The edible fruit produced by an apple tree (Malus domestica). Commonly eaten raw or used in cooking and baking.\n",
    "\n",
    "4. Apple (Symbolism) - A symbol used in various cultural, religious, and artistic contexts. Often represents knowledge, immortality, temptation, or sin.\"\"\"}]))"
   ]
  },
  {
   "cell_type": "markdown",
   "metadata": {},
   "source": [
    "TODOs for evaluation:</br>\n",
    "* sameAs links</br>\n",
    "* is dbo:wikiPageRedirects of</br>\n",
    "        * Example: http://en.wikipedia.org/wiki/People's_Republic_of_China vs. http://dbpedia.org/resource/China</br>\n",
    "        * Relevant file: C:/Users/wf7467/Desktop/GitHub/KIT/agnostic-disambiguation/data/candidates/CoNLL_AIDA-YAGO2-dataset.nif/1.json</br>\n",
    "    * dbr:People's_Republic_Of_China</br>\n"
   ]
  }
 ],
 "metadata": {
  "kernelspec": {
   "display_name": "Python 3",
   "language": "python",
   "name": "python3"
  },
  "language_info": {
   "codemirror_mode": {
    "name": "ipython",
    "version": 3
   },
   "file_extension": ".py",
   "mimetype": "text/x-python",
   "name": "python",
   "nbconvert_exporter": "python",
   "pygments_lexer": "ipython3",
   "version": "3.8.3"
  }
 },
 "nbformat": 4,
 "nbformat_minor": 4
}
