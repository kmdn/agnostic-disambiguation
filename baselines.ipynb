{
 "cells": [
  {
   "cell_type": "code",
   "execution_count": null,
   "metadata": {},
   "outputs": [],
   "source": [
    "print(\"Hello orld\")"
   ]
  },
  {
   "cell_type": "code",
   "execution_count": null,
   "metadata": {},
   "outputs": [],
   "source": [
    "prompt = \"SOCCER - AFRICAN NATIONS CUP COLLATED RESULTS .  JOHANNESBURG 1996-08-26  Collated results of African Nations Cup preliminary round , second leg matches played at the weekend :  Ethiopia 1 Uganda 1  2-2 on aggregate .  Ethiopia win 4-2 on penalties  Mauritania v Benin postponed to Friday  Benin lead 4-1 from the first leg  Namibia 6 Botswana 0  Namibia win 6-0 on aggregate  Seychelles 1 Mauritius 1  Mauritius win 2-1 on aggregate  Togo 1 Congo 0  Togo win 1-0 on aggregaete  Central African Republic walkover v Burundi  Winners progress to qualifying groups to start in October . \\\", which of the following entity candidates is referred to by the mention \\\"Ethiopia\\\" (at offset 178)?\""
   ]
  },
  {
   "cell_type": "code",
   "execution_count": null,
   "metadata": {},
   "outputs": [],
   "source": [
    "from transformers import AutoTokenizer\n",
    "from huggingface_hub import InferenceClient\n",
    "\n",
    "endpoint_url = \"http://aifb-websci-gpunode2.aifb.kit.edu:8081\"\n",
    "model_id = \"meta-llama/Meta-Llama-3-8B-Instruct\"\n",
    "tokenizer = AutoTokenizer.from_pretrained(model_id)\n",
    "\n",
    "client = InferenceClient(endpoint_url)\n",
    "\n",
    "messages = [\n",
    "    {\"role\": \"system\", \"content\": \"You are an expert assistant disambiguating entities and outputting if any of the passed entities are referenced in a given input text.\"},\n",
    "    #{\"role\": \"user\", \"content\": f\"Please convert this text into triples: 'Green Day is a rock band.'\"},            \n",
    "    #{\"role\": \"assistant\", \"content\": \"Here are the triples corresponding to 'Green Day is a rock band.': (Green Day, has type, rock band)\"},\n",
    "    #{\"role\": \"user\", \"content\": f\"Please convert this text into triples: 'New York is a city in North America.'\"},            \n",
    "    #{\"role\": \"assistant\", \"content\": \"Here are the triples corresponding to 'New York is a city in North America': (New York, has type, city), (New York, located in, North America)\"},\n",
    "    #{\"role\": \"user\", \"content\": f\"Please convert this text into triples: 'Kris is a researcher'\"},\n",
    "    {\"role\": \"user\", \"content\": prompt_text_apple},\n",
    "    {\"role\": \"assistant\", \"content\": \"The correct disambiguated entity is number 2. Apple Inc. (Public company) - http://dbpedia.org/resource/Apple_Inc.\"},\n",
    "    {\"role\": \"user\", \"content\": prompt_text_steve},\n",
    "    {\"role\": \"assistant\", \"content\": \"The correct disambiguated entity is number 11. Steve Jobs (animal) - http://dbpedia.org/resource/Steve_Jobs\"},\n",
    "    \n",
    "\n",
    "]\n",
    "\n",
    "prompt = tokenizer.apply_chat_template(\n",
    "        messages, \n",
    "        tokenize=False, \n",
    "        add_generation_prompt=True\n",
    ")\n",
    "\n",
    "\n",
    "response = client.text_generation(\n",
    "  prompt + f\"The correct disambiguated entity is number\",\n",
    "  max_new_tokens=64,\n",
    "  do_sample=False,\n",
    "  temperature=0.01,\n",
    "        stop_sequences=[\"<|start_header_id|>\", \"<|end_header_id|>\", \"<|eot_id|>\"]\n",
    ")\n",
    "print(prompt + response)"
   ]
  }
 ],
 "metadata": {
  "kernelspec": {
   "display_name": "Python 3",
   "language": "python",
   "name": "python3"
  },
  "language_info": {
   "name": ""
  }
 },
 "nbformat": 4,
 "nbformat_minor": 4
}
